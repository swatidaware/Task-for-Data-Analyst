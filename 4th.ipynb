{
 "cells": [
  {
   "cell_type": "markdown",
   "id": "cde917a8-aef0-4668-b284-58a375bfc68a",
   "metadata": {},
   "source": [
    "4. Create a dual-axis chart comparing the average installs and revenue for free vs. \n",
    "paid apps within the top 3 app categories. Apply filters to exclude apps with fewer than 10,000 installs and \n",
    "revenue below $10,000 and android version should be more than 4.0 as well as size should be more than 15M and \n",
    "content rating should be Everyone and app name should not have more than 30 characters including space and special character .\n",
    "this graph should work only between 1 PM IST to 2 PM IST apart from that time we should not show this graph in dashboard itself.\n"
   ]
  },
  {
   "cell_type": "code",
   "execution_count": 66,
   "id": "e58049fa-9dc9-43ef-a46d-ab51f9b61308",
   "metadata": {},
   "outputs": [],
   "source": [
    "import pandas as pd\n",
    "import matplotlib.pyplot as plt\n",
    "from datetime import datetime\n",
    "import pytz\n"
   ]
  },
  {
   "cell_type": "code",
   "execution_count": 68,
   "id": "24bb84f6-1dcc-48df-bbfb-1a1a106bbbb4",
   "metadata": {},
   "outputs": [
    {
     "name": "stdout",
     "output_type": "stream",
     "text": [
      "<class 'pandas.core.frame.DataFrame'>\n",
      "RangeIndex: 10841 entries, 0 to 10840\n",
      "Data columns (total 13 columns):\n",
      " #   Column          Non-Null Count  Dtype  \n",
      "---  ------          --------------  -----  \n",
      " 0   App             10841 non-null  object \n",
      " 1   Category        10841 non-null  object \n",
      " 2   Rating          9367 non-null   float64\n",
      " 3   Reviews         10841 non-null  object \n",
      " 4   Size            10841 non-null  object \n",
      " 5   Installs        10841 non-null  object \n",
      " 6   Type            10840 non-null  object \n",
      " 7   Price           10841 non-null  object \n",
      " 8   Content Rating  10840 non-null  object \n",
      " 9   Genres          10841 non-null  object \n",
      " 10  Last Updated    10841 non-null  object \n",
      " 11  Current Ver     10833 non-null  object \n",
      " 12  Android Ver     10838 non-null  object \n",
      "dtypes: float64(1), object(12)\n",
      "memory usage: 1.1+ MB\n"
     ]
    }
   ],
   "source": [
    "data = pd.read_csv('Play Store Data.csv')\n",
    "data.info()"
   ]
  },
  {
   "cell_type": "code",
   "execution_count": 54,
   "id": "928af904-8877-4518-b646-a453b6a46203",
   "metadata": {},
   "outputs": [],
   "source": [
    "filtered_data = data.copy()"
   ]
  },
  {
   "cell_type": "code",
   "execution_count": 70,
   "id": "bbbb2d42-3bac-4e7f-92d1-3bd6b7b5cceb",
   "metadata": {},
   "outputs": [],
   "source": [
    "# Step 1: Replace non-numeric values with '0' and convert to string for safe regex operations\n",
    "filtered_data['Installs'] = filtered_data['Installs'].fillna('0').astype(str)\n",
    "\n",
    "# Step 2: Remove non-numeric characters (commas, plus signs)\n",
    "filtered_data['Installs'] = filtered_data['Installs'].replace(r'[\\+,]', '', regex=True)\n",
    "\n",
    "# Step 3: Convert to integers\n",
    "filtered_data['Installs'] = pd.to_numeric(data['Installs'], errors='coerce').fillna(0).astype(int)\n"
   ]
  },
  {
   "cell_type": "code",
   "execution_count": 62,
   "id": "f5689577-dce4-41de-a7bf-c12bae15ffcb",
   "metadata": {},
   "outputs": [],
   "source": [
    "filtered_data['Price'] = filtered_data['Price'].str.replace('[^0-9]', '', regex=True)\n",
    "filtered_data['Price'] = filtered_data['Price'].replace('', '0').astype(int)"
   ]
  },
  {
   "cell_type": "code",
   "execution_count": 106,
   "id": "4d735876-397d-4fb1-b0fd-3435fd819b1a",
   "metadata": {},
   "outputs": [
    {
     "name": "stdout",
     "output_type": "stream",
     "text": [
      "<class 'pandas.core.frame.DataFrame'>\n",
      "RangeIndex: 10841 entries, 0 to 10840\n",
      "Data columns (total 14 columns):\n",
      " #   Column          Non-Null Count  Dtype  \n",
      "---  ------          --------------  -----  \n",
      " 0   App             10841 non-null  object \n",
      " 1   Category        10841 non-null  object \n",
      " 2   Rating          9367 non-null   float64\n",
      " 3   Reviews         10841 non-null  object \n",
      " 4   Size            10841 non-null  float64\n",
      " 5   Installs        10841 non-null  int32  \n",
      " 6   Type            10840 non-null  object \n",
      " 7   Price           10841 non-null  int32  \n",
      " 8   Content Rating  10840 non-null  object \n",
      " 9   Genres          10841 non-null  object \n",
      " 10  Last Updated    10841 non-null  object \n",
      " 11  Current Ver     10833 non-null  object \n",
      " 12  Android Ver     10841 non-null  float64\n",
      " 13  Multiplier      10841 non-null  float64\n",
      "dtypes: float64(4), int32(2), object(8)\n",
      "memory usage: 1.1+ MB\n"
     ]
    }
   ],
   "source": [
    "# Check the result\n",
    "filtered_data.info()"
   ]
  },
  {
   "cell_type": "code",
   "execution_count": 90,
   "id": "9a0a4971-71d9-476b-8f83-f4b75ce4d5df",
   "metadata": {},
   "outputs": [],
   "source": [
    "# Ensure all entries in 'Android Ver' column are strings\n",
    "filtered_data['Android Ver'] = filtered_data['Android Ver'].astype(str)\n",
    "\n",
    "# Extract numeric Android version (e.g., '4.0.3' from '4.0.3 and up') and handle missing values\n",
    "filtered_data['Android Ver'] = (\n",
    "    filtered_data['Android Ver']\n",
    "    .str.extract(r'([0-9]+(?:\\.[0-9]+)*)')  # Extract the version numbers\n",
    "    .fillna('0')  # Replace missing values with '0'\n",
    "    .astype(float)  # Convert to float\n",
    ")\n"
   ]
  },
  {
   "cell_type": "code",
   "execution_count": 104,
   "id": "9182228e-5ac6-4531-97dc-523125181818",
   "metadata": {},
   "outputs": [
    {
     "name": "stderr",
     "output_type": "stream",
     "text": [
      "C:\\Users\\USER\\AppData\\Local\\Temp\\ipykernel_12768\\1029575550.py:4: FutureWarning: Downcasting behavior in `replace` is deprecated and will be removed in a future version. To retain the old behavior, explicitly call `result.infer_objects(copy=False)`. To opt-in to the future behavior, set `pd.set_option('future.no_silent_downcasting', True)`\n",
      "  .replace({'k': 1 / 1024, 'M': 1}).fillna(1).astype(float)\n"
     ]
    }
   ],
   "source": [
    "filtered_data['Size'] = filtered_data['Size'].astype(str)\n",
    "# Step 2: Extract size multiplier (k or M), replace with corresponding numeric values, and handle missing cases\n",
    "filtered_data['Multiplier'] = filtered_data['Size'].str.extract(r'[\\d\\.]+([kM])', expand=False)\\\n",
    "    .replace({'k': 1 / 1024, 'M': 1}).fillna(1).astype(float)\n",
    "# Step 3: Remove non-numeric characters, convert to numeric, and multiply by the multiplier\n",
    "filtered_data['Size'] = (filtered_data['Size'].str.replace(r'[^\\d\\.]', '', regex=True).replace('', '0').astype(float))"
   ]
  },
  {
   "cell_type": "code",
   "execution_count": 110,
   "id": "c9259d1b-55b8-41af-88cf-613f01fb7975",
   "metadata": {},
   "outputs": [],
   "source": [
    "# Clean 'Android Version' column\n",
    "#filtered_data['Android Ver'] = (filtered_data['Android Ver'].str(r'([0-9]+\\\\.[0-9]+(?:\\\\.[0-9]+)?)').fillna('0').astype(float))\n",
    "# Clean 'Size' column: Convert sizes like '15M' or '100k' to MB and handle missing values\n",
    "#filtered_data['Size'] = filtered_data['Size'].replace({'k': 'e-3', 'M': 'e3'}, regex=True)\n",
    "#filtered_data['Size'] = filtered_data['Size'].replace('', '0').map(pd.eval).astype(float)\n",
    "\n",
    "# Apply filters\n",
    "filtered_data = filtered_data[\n",
    "    (filtered_data['Installs'] >= 10000) &\n",
    "    (filtered_data['Price'] >= 10000) &\n",
    "    (filtered_data['Android Ver'] > 4.0) &\n",
    "    (filtered_data['Size'] > 15) &\n",
    "    (filtered_data['Content Rating'] == 'Everyone') &\n",
    "    (filtered_data['App'].str.len() <= 30)\n",
    "]\n"
   ]
  },
  {
   "cell_type": "code",
   "execution_count": 114,
   "id": "cc9d7c03-4f1d-43b2-ab9d-ea62d405c99d",
   "metadata": {},
   "outputs": [],
   "source": [
    "# Group by category and calculate average installs and revenue\n",
    "grouped = filtered_data.groupby(['Category', 'Type']).agg(\n",
    "    Avg_Installs=('Installs', 'mean'),\n",
    "    Avg_Revenue=('Price', 'mean')\n",
    ").reset_index()\n",
    "\n",
    "# Identify top 3 categories by total installs\n",
    "top_categories = (\n",
    "    grouped.groupby('Category')['Avg_Installs']\n",
    "    .sum()\n",
    "    .nlargest(3)\n",
    "    .index\n",
    ")\n",
    "\n",
    "# Filter for the top 3 categories\n",
    "top_data = grouped[grouped['Category'].isin(top_categories)]\n",
    "\n",
    "# Plot the dual-axis chart\n",
    "def plot_chart():\n",
    "    fig, ax1 = plt.subplots(figsize=(10, 6))\n",
    "\n",
    "    for category in top_categories:\n",
    "        category_data = top_data[top_data['Category'] == category]\n",
    "        \n",
    "        ax1.bar(\n",
    "            category_data['Type'], \n",
    "            category_data['Avg_Installs'], \n",
    "            label=f'{category} - Installs', \n",
    "            alpha=0.7\n",
    "        )\n",
    "\n",
    "    ax2 = ax1.twinx()\n",
    "\n",
    "    for category in top_categories:\n",
    "        category_data = top_data[top_data['Category'] == category]\n",
    "        \n",
    "        ax2.plot(\n",
    "            category_data['Type'], \n",
    "            category_data['Avg_Revenue'], \n",
    "            marker='o', \n",
    "            label=f'{category} - Revenue'\n",
    "        )\n",
    "\n",
    "    ax1.set_xlabel('App Type (Free vs Paid)')\n",
    "    ax1.set_ylabel('Average Installs')\n",
    "    ax2.set_ylabel('Average Revenue ($)')\n",
    "    ax1.set_title('Average Installs and Revenue for Top 3 App Categories')\n",
    "    \n",
    "    ax1.legend(loc='upper left')\n",
    "    ax2.legend(loc='upper right')\n",
    "    \n",
    "    plt.tight_layout()\n",
    "    plt.show()\n",
    "\n"
   ]
  },
  {
   "cell_type": "code",
   "execution_count": 116,
   "id": "72e8b48f-4fbd-4232-82cd-77579faeb20e",
   "metadata": {},
   "outputs": [
    {
     "name": "stdout",
     "output_type": "stream",
     "text": [
      "The chart can only be displayed between 1 PM IST and 2 PM IST.\n"
     ]
    }
   ],
   "source": [
    "# Check current time for IST\n",
    "def is_time_valid():\n",
    "    ist = pytz.timezone('Asia/Kolkata')\n",
    "    current_time = datetime.now(ist).time()\n",
    "    return current_time >= datetime.strptime(\"13:00\", \"%H:%M\").time() and \\\n",
    "           current_time <= datetime.strptime(\"14:00\", \"%H:%M\").time()\n",
    "\n",
    "if is_time_valid():\n",
    "    plot_chart()\n",
    "else:\n",
    "    print(\"The chart can only be displayed between 1 PM IST and 2 PM IST.\")\n"
   ]
  },
  {
   "cell_type": "code",
   "execution_count": null,
   "id": "86b009ac-129e-45d7-bcdd-e4578edd1c16",
   "metadata": {},
   "outputs": [],
   "source": []
  },
  {
   "cell_type": "code",
   "execution_count": null,
   "id": "1686bdae-ccd2-44b5-a3f2-da934af79831",
   "metadata": {},
   "outputs": [],
   "source": []
  },
  {
   "cell_type": "code",
   "execution_count": null,
   "id": "bff5d405-c2bf-45af-87ad-52c54f83dff6",
   "metadata": {},
   "outputs": [],
   "source": []
  },
  {
   "cell_type": "code",
   "execution_count": null,
   "id": "c0963f33-5b18-4101-b593-e410bc497e80",
   "metadata": {},
   "outputs": [],
   "source": []
  },
  {
   "cell_type": "code",
   "execution_count": null,
   "id": "4aaa8447-3ba8-4418-a277-9bbce8fc68f4",
   "metadata": {},
   "outputs": [],
   "source": []
  }
 ],
 "metadata": {
  "kernelspec": {
   "display_name": "Python 3 (ipykernel)",
   "language": "python",
   "name": "python3"
  },
  "language_info": {
   "codemirror_mode": {
    "name": "ipython",
    "version": 3
   },
   "file_extension": ".py",
   "mimetype": "text/x-python",
   "name": "python",
   "nbconvert_exporter": "python",
   "pygments_lexer": "ipython3",
   "version": "3.12.7"
  }
 },
 "nbformat": 4,
 "nbformat_minor": 5
}
