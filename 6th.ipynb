{
 "cells": [
  {
   "cell_type": "markdown",
   "id": "942ff3db-901d-4a0a-a8fd-65a0e5ba9715",
   "metadata": {},
   "source": [
    "6. Plot a time series line chart to show the trend of total installs over time,\n",
    "segmented by app category. Highlight periods of significant growth by shading the\n",
    "areas under the curve where the increase in installs exceeds 20% month-over-month\n",
    "and content rating should be teen and app name should start with letter ‘E’ and \n",
    "installs should be more than 10k as well as this graph should work only between 6 PM\n",
    "IST to 9 PM IST apart from that time we should not show this graph in dashboard itself.\n"
   ]
  },
  {
   "cell_type": "code",
   "execution_count": null,
   "id": "07df54d7-1796-45e4-94e4-f13a89319b08",
   "metadata": {},
   "outputs": [],
   "source": []
  }
 ],
 "metadata": {
  "kernelspec": {
   "display_name": "Python 3 (ipykernel)",
   "language": "python",
   "name": "python3"
  },
  "language_info": {
   "codemirror_mode": {
    "name": "ipython",
    "version": 3
   },
   "file_extension": ".py",
   "mimetype": "text/x-python",
   "name": "python",
   "nbconvert_exporter": "python",
   "pygments_lexer": "ipython3",
   "version": "3.12.7"
  }
 },
 "nbformat": 4,
 "nbformat_minor": 5
}
