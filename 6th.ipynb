{
 "cells": [
  {
   "cell_type": "markdown",
   "id": "942ff3db-901d-4a0a-a8fd-65a0e5ba9715",
   "metadata": {},
   "source": [
    "6. Plot a time series line chart to show the trend of total installs over time,\n",
    "segmented by app category. Highlight periods of significant growth by shading the\n",
    "areas under the curve where the increase in installs exceeds 20% month-over-month\n",
    "and content rating should be teen and app name should start with letter ‘E’ and \n",
    "installs should be more than 10k as well as this graph should work only between 6 PM\n",
    "IST to 9 PM IST apart from that time we should not show this graph in dashboard itself.\n"
   ]
  },
  {
   "cell_type": "code",
   "execution_count": 19,
   "id": "7547f582-408c-4c6c-b45a-e01bc41b508b",
   "metadata": {},
   "outputs": [
    {
     "name": "stdout",
     "output_type": "stream",
     "text": [
      "The graph is only available between 6 PM and 9 PM IST.\n"
     ]
    }
   ],
   "source": [
    "from datetime import datetime\n",
    "import pytz\n",
    "\n",
    "# Define IST timezone and get current time in IST\n",
    "ist = pytz.timezone('Asia/Kolkata')\n",
    "current_time = datetime.now(ist)\n",
    "\n",
    "# Check if current time is between 6 PM and 9 PM IST\n",
    "start_time = current_time.replace(hour=18, minute=0, second=0, microsecond=0)\n",
    "end_time = current_time.replace(hour=21, minute=0, second=0, microsecond=0)\n",
    "\n",
    "if start_time <= current_time <= end_time:\n",
    "    print(\"Proceeding to generate the graph...\")\n",
    "\n",
    "    # Load the data\n",
    "    try:\n",
    "        data = pd.read_csv('/mnt/data/Play Store Data.csv')\n",
    "\n",
    "        # Clean and preprocess the data\n",
    "        data['Installs'] = data['Installs'].str.replace('[+,]', '', regex=True).astype(float)\n",
    "        data['Last Updated'] = pd.to_datetime(data['Last Updated'], errors='coerce')\n",
    "        \n",
    "        # Filter data based on the criteria\n",
    "        filtered_data = data[\n",
    "            (data['Content Rating'] == 'Teen') &\n",
    "            (data['App'].str.startswith('E')) &\n",
    "            (data['Installs'] > 10000)\n",
    "        ]\n",
    "        \n",
    "        # Check if there's data after filtering\n",
    "        if filtered_data.empty:\n",
    "            print(\"No data meets the filtering criteria.\")\n",
    "        else:\n",
    "            # Create time series data\n",
    "            filtered_data['Year-Month'] = filtered_data['Last Updated'].dt.to_period('M')\n",
    "            time_series = filtered_data.groupby(['Year-Month', 'Category'])['Installs'].sum().reset_index()\n",
    "            time_series['Year-Month'] = time_series['Year-Month'].dt.to_timestamp()\n",
    "\n",
    "            # Calculate month-over-month growth\n",
    "            time_series['MoM Growth'] = time_series.groupby('Category')['Installs'].pct_change()\n",
    "\n",
    "            # Plotting\n",
    "            import matplotlib.pyplot as plt\n",
    "            import seaborn as sns\n",
    "\n",
    "            plt.figure(figsize=(14, 8))\n",
    "            categories = time_series['Category'].unique()\n",
    "\n",
    "            for category in categories:\n",
    "                cat_data = time_series[time_series['Category'] == category]\n",
    "                plt.plot(cat_data['Year-Month'], cat_data['Installs'], label=category)\n",
    "                \n",
    "                # Highlight growth > 20%\n",
    "                growth_periods = cat_data[cat_data['MoM Growth'] > 0.2]\n",
    "                plt.fill_between(\n",
    "                    growth_periods['Year-Month'], \n",
    "                    0, \n",
    "                    growth_periods['Installs'], \n",
    "                    alpha=0.3, \n",
    "                    label=f\"Significant Growth - {category}\"\n",
    "                )\n",
    "\n",
    "            plt.title(\"Trend of Total Installs Over Time by Category\")\n",
    "            plt.xlabel(\"Time\")\n",
    "            plt.ylabel(\"Total Installs\")\n",
    "            plt.legend()\n",
    "            plt.grid()\n",
    "            plt.show()\n",
    "    except Exception as e:\n",
    "        print(f\"An error occurred: {e}\")\n",
    "else:\n",
    "    print(\"The graph is only available between 6 PM and 9 PM IST.\")\n"
   ]
  },
  {
   "cell_type": "code",
   "execution_count": null,
   "id": "eeea8e22-b2ef-469b-bc8b-08b7c166025b",
   "metadata": {},
   "outputs": [],
   "source": []
  }
 ],
 "metadata": {
  "kernelspec": {
   "display_name": "Python 3 (ipykernel)",
   "language": "python",
   "name": "python3"
  },
  "language_info": {
   "codemirror_mode": {
    "name": "ipython",
    "version": 3
   },
   "file_extension": ".py",
   "mimetype": "text/x-python",
   "name": "python",
   "nbconvert_exporter": "python",
   "pygments_lexer": "ipython3",
   "version": "3.12.7"
  }
 },
 "nbformat": 4,
 "nbformat_minor": 5
}
